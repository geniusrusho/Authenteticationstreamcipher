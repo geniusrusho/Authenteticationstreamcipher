{
  "nbformat": 4,
  "nbformat_minor": 0,
  "metadata": {
    "colab": {
      "provenance": [],
      "authorship_tag": "ABX9TyMBJ4/jpCh71eNbgmtdMLSr",
      "include_colab_link": true
    },
    "kernelspec": {
      "name": "python3",
      "display_name": "Python 3"
    },
    "language_info": {
      "name": "python"
    },
    "gpuClass": "standard"
  },
  "cells": [
    {
      "cell_type": "markdown",
      "metadata": {
        "id": "view-in-github",
        "colab_type": "text"
      },
      "source": [
        "<a href=\"https://colab.research.google.com/github/geniusrusho/Authenteticationstreamcipher/blob/main/reuse_of_key_in_streamcipher_Authentitication_py.ipynb\" target=\"_parent\"><img src=\"https://colab.research.google.com/assets/colab-badge.svg\" alt=\"Open In Colab\"/></a>"
      ]
    },
    {
      "cell_type": "code",
      "execution_count": 33,
      "metadata": {
        "id": "OuntdTQLbaix"
      },
      "outputs": [],
      "source": [
        "import random\n",
        "class KeyStream:\n",
        "  def _init_(self,key1):\n",
        "    self.next=key\n",
        "  def rand(self):\n",
        "    self.next = (1103515245*self.next + 12345)% 2**31\n",
        "  def get_key_byte(self):\n",
        "    return self.rand() % 256\n",
        "  def encrypt(key,message):\n",
        "    return bytes([message[i]^key.get_key_byte() for i in range(len(message))])\n",
        "\n",
        "  def transmit(cipher, likely):\n",
        "    b = []\n",
        "    for c in cipher:\n",
        "     if random.randrange(0,likely) ==0:\n",
        "       c = c^random.randrange(0,8)\n",
        "       b.append(c)\n",
        "       return bytes[b]\n",
        "\n",
        "   \n",
        "    key = KeyStream(10)\n",
        "    message = \"Hello World\".encode()\n",
        "    print(message)\n",
        "    cipher = encrypt(key,message)\n",
        "    print(cipher)\n",
        "    cipher = transmit(cipher,5)\n",
        "    key = keyStream(10)\n",
        "    message = encrypt(key,cipher)\n",
        "    print(key)\n",
        "    for i in range(10):\n",
        "      print(key.get_key_byte())\n",
        "\n",
        "      def modification(cipher):\n",
        "        mod = [0]*len(cipher)\n",
        "        mod[10] = ord('') ^ ord('1')\n",
        "        mod[11] = ord('') ^ ord('0')\n",
        "        mod[12] = ord('') ^ ord('0')\n",
        "\n",
        "        return bytes([mod[i]^cipher[i] for i in range(len(cipher))])\n",
        "        def get_key(message,cipher):\n",
        "          return bytes[message[i]]\n",
        "\n",
        "      #This is Alice\n",
        "      key = KeyStream(10)\n",
        "      message = \"send bank 10$\".encode()\n",
        "      message =  eves_message\n",
        "      print(message)\n",
        "      cipher = encrypt(key,message)\n",
        "      print(cipher)\n",
        "      eves_key_stream = get_key(eves_message,cipher)\n",
        "      #This is bob\n",
        "      key = KeyStream(10)\n",
        "      message = encrypt(key,message)\n",
        "      print(key)\n",
        "      #\n",
        "      message = \"Hi BOB! I FUCK YOU\"\n",
        "      key = key_stream(10)\n",
        "      message = encrypt(key,cipher)"
      ]
    }
  ]
}